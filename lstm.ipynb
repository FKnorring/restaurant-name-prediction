{
 "cells": [
  {
   "cell_type": "code",
   "execution_count": 1,
   "metadata": {},
   "outputs": [],
   "source": [
    "import pandas as pd\n",
    "import numpy as np\n",
    "import matplotlib.pyplot as plt\n",
    "from preprocess import preprocess\n",
    "from sales_processing import fill_in_dates, add_date_features"
   ]
  },
  {
   "cell_type": "code",
   "execution_count": 2,
   "metadata": {},
   "outputs": [],
   "source": [
    "def wmape(y_true, y_pred):\n",
    "    return np.abs(y_true - y_pred).sum() / np.abs(y_true).sum()\n"
   ]
  },
  {
   "cell_type": "code",
   "execution_count": 3,
   "metadata": {},
   "outputs": [],
   "source": [
    "sales = pd.read_csv('data/caspecoTrainingData.csv', parse_dates=True) \n",
    "sales = preprocess(sales, fill_dates=True, drop_cols=['Year'], categorical_features=['Month','Day','Weekday','Week'])"
   ]
  },
  {
   "cell_type": "code",
   "execution_count": 4,
   "metadata": {},
   "outputs": [],
   "source": [
    "sales = sales.rename(columns={'Sales':'y', 'Date':'ds', 'Company':'unique_id'})\n"
   ]
  },
  {
   "cell_type": "code",
   "execution_count": 5,
   "metadata": {},
   "outputs": [],
   "source": [
    "train = sales[sales['ds'] < '2022-05-01']\n",
    "valid = sales[sales['ds'] >= '2022-05-01']\n",
    "h = valid['ds'].nunique()"
   ]
  },
  {
   "cell_type": "code",
   "execution_count": 6,
   "metadata": {},
   "outputs": [
    {
     "name": "stderr",
     "output_type": "stream",
     "text": [
      "/home/fknorring/.local/lib/python3.10/site-packages/tqdm/auto.py:22: TqdmWarning: IProgress not found. Please update jupyter and ipywidgets. See https://ipywidgets.readthedocs.io/en/stable/user_install.html\n",
      "  from .autonotebook import tqdm as notebook_tqdm\n"
     ]
    }
   ],
   "source": [
    "import torch\n",
    "from typing import Union\n",
    "\n",
    "\n",
    "class WMAPE(torch.nn.Module):\n",
    "\n",
    "    def __init__(self):\n",
    "        super(WMAPE, self).__init__()\n",
    "        self.outputsize_multiplier = 1\n",
    "        self.output_names = [\"\"]\n",
    "        self.is_distribution_output = False\n",
    "\n",
    "    def domain_map(self, y_hat: torch.Tensor):\n",
    "        return y_hat.squeeze(-1)\n",
    "\n",
    "    def __call__(\n",
    "        self,\n",
    "        y: torch.Tensor,\n",
    "        y_hat: torch.Tensor,\n",
    "        mask: Union[torch.Tensor, None] = None,\n",
    "    ):\n",
    "        if mask is None:\n",
    "            mask = torch.ones_like(y_hat)\n",
    "\n",
    "        num = mask * (y - y_hat).abs()\n",
    "        den = mask * y.abs()\n",
    "        return num.sum() / den.sum()\n"
   ]
  },
  {
   "cell_type": "code",
   "execution_count": 7,
   "metadata": {},
   "outputs": [],
   "source": [
    "from neuralforecast import NeuralForecast\n",
    "from neuralforecast.auto import AutoLSTM\n",
    "from neuralforecast.losses.pytorch import MAPE\n",
    "\n",
    "models = [AutoLSTM(h=h,\n",
    "                   num_samples=30,\n",
    "                   loss=WMAPE())]\n",
    "\n",
    "model = NeuralForecast(models=models, freq='D')\n"
   ]
  },
  {
   "cell_type": "code",
   "execution_count": 8,
   "metadata": {},
   "outputs": [
    {
     "data": {
      "text/html": [],
      "text/plain": [
       "<IPython.core.display.HTML object>"
      ]
     },
     "metadata": {},
     "output_type": "display_data"
    },
    {
     "name": "stderr",
     "output_type": "stream",
     "text": [
      "\u001b[2m\u001b[36m(train_tune pid=4791)\u001b[0m 2023-02-22 11:40:05.004954: I tensorflow/core/platform/cpu_feature_guard.cc:193] This TensorFlow binary is optimized with oneAPI Deep Neural Network Library (oneDNN) to use the following CPU instructions in performance-critical operations:  AVX2 FMA\n",
      "\u001b[2m\u001b[36m(train_tune pid=4791)\u001b[0m To enable them in other operations, rebuild TensorFlow with the appropriate compiler flags.\n",
      "\u001b[2m\u001b[36m(train_tune pid=4791)\u001b[0m 2023-02-22 11:40:07.091690: W tensorflow/compiler/xla/stream_executor/platform/default/dso_loader.cc:64] Could not load dynamic library 'libnvinfer.so.7'; dlerror: libnvinfer.so.7: cannot open shared object file: No such file or directory\n",
      "\u001b[2m\u001b[36m(train_tune pid=4791)\u001b[0m 2023-02-22 11:40:07.092055: W tensorflow/compiler/xla/stream_executor/platform/default/dso_loader.cc:64] Could not load dynamic library 'libnvinfer_plugin.so.7'; dlerror: libnvinfer_plugin.so.7: cannot open shared object file: No such file or directory\n",
      "\u001b[2m\u001b[36m(train_tune pid=4791)\u001b[0m 2023-02-22 11:40:07.092086: W tensorflow/compiler/tf2tensorrt/utils/py_utils.cc:38] TF-TRT Warning: Cannot dlopen some TensorRT libraries. If you would like to use Nvidia GPU with TensorRT, please make sure the missing libraries mentioned above are installed properly.\n"
     ]
    },
    {
     "name": "stdout",
     "output_type": "stream",
     "text": [
      "Sanity Checking DataLoader 0:   0%|          | 0/1 [00:00<?, ?it/s]\n",
      "Training: 0it [00:00, ?it/s]                                               \n",
      "Epoch 0:   0%|          | 0/1 [00:00<?, ?it/s] \n",
      "Epoch 1:   0%|          | 0/1 [00:00<?, ?it/s, loss=1, v_num=0, train_loss_step=1.000, train_loss_epoch=1.000]        \n",
      "Epoch 2:   0%|          | 0/1 [00:00<?, ?it/s, loss=1, v_num=0, train_loss_step=1.000, train_loss_epoch=1.000]        \n",
      "Epoch 3:   0%|          | 0/1 [00:00<?, ?it/s, loss=1, v_num=0, train_loss_step=1.000, train_loss_epoch=1.000]        \n",
      "Epoch 4:   0%|          | 0/1 [00:00<?, ?it/s, loss=1, v_num=0, train_loss_step=1.000, train_loss_epoch=1.000]        \n",
      "Epoch 5:   0%|          | 0/1 [00:00<?, ?it/s, loss=1, v_num=0, train_loss_step=1.000, train_loss_epoch=1.000]        \n",
      "Epoch 6:   0%|          | 0/1 [00:00<?, ?it/s, loss=1, v_num=0, train_loss_step=1.000, train_loss_epoch=1.000]        \n",
      "Epoch 7:   0%|          | 0/1 [00:00<?, ?it/s, loss=1, v_num=0, train_loss_step=1.000, train_loss_epoch=1.000]        \n",
      "Epoch 8:   0%|          | 0/1 [00:00<?, ?it/s, loss=1, v_num=0, train_loss_step=1.000, train_loss_epoch=1.000]        \n",
      "Epoch 9:   0%|          | 0/1 [00:00<?, ?it/s, loss=1, v_num=0, train_loss_step=1.000, train_loss_epoch=1.000]        \n",
      "Epoch 10:   0%|          | 0/1 [00:00<?, ?it/s, loss=1, v_num=0, train_loss_step=1.000, train_loss_epoch=1.000]       \n",
      "Epoch 11:   0%|          | 0/1 [00:00<?, ?it/s, loss=1, v_num=0, train_loss_step=0.999, train_loss_epoch=0.999]        \n",
      "Epoch 12:   0%|          | 0/1 [00:00<?, ?it/s, loss=1, v_num=0, train_loss_step=0.999, train_loss_epoch=0.999]        \n"
     ]
    },
    {
     "name": "stderr",
     "output_type": "stream",
     "text": [
      "2023-02-22 11:41:25,520\tWARNING tune.py:686 -- Stop signal received (e.g. via SIGINT/Ctrl+C), ending Ray Tune run. This will try to checkpoint the experiment state one last time. Press CTRL+C (or send SIGINT/SIGKILL/SIGTERM) to skip. \n"
     ]
    },
    {
     "name": "stdout",
     "output_type": "stream",
     "text": [
      "Epoch 13:   0%|          | 0/1 [00:00<?, ?it/s, loss=1, v_num=0, train_loss_step=0.999, train_loss_epoch=0.999]        \n",
      "Epoch 14:   0%|          | 0/1 [00:00<?, ?it/s, loss=1, v_num=0, train_loss_step=0.999, train_loss_epoch=0.999]        \n"
     ]
    }
   ],
   "source": [
    "model.fit(train)\n",
    "\n",
    "p = model.predict().reset_index()\n",
    "p = p.merge(valid[['ds', 'unique_id', 'y']],\n",
    "            on=['ds', 'unique_id'], how='left')\n"
   ]
  }
 ],
 "metadata": {
  "kernelspec": {
   "display_name": "Python 3",
   "language": "python",
   "name": "python3"
  },
  "language_info": {
   "codemirror_mode": {
    "name": "ipython",
    "version": 3
   },
   "file_extension": ".py",
   "mimetype": "text/x-python",
   "name": "python",
   "nbconvert_exporter": "python",
   "pygments_lexer": "ipython3",
   "version": "3.10.6"
  },
  "orig_nbformat": 4,
  "vscode": {
   "interpreter": {
    "hash": "916dbcbb3f70747c44a77c7bcd40155683ae19c65e1c03b4aa3499c5328201f1"
   }
  }
 },
 "nbformat": 4,
 "nbformat_minor": 2
}
