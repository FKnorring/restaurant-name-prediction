{
 "cells": [
  {
   "cell_type": "code",
   "execution_count": null,
   "metadata": {},
   "outputs": [],
   "source": [
    "import numpy as np\n",
    "import pandas as pd\n",
    "import matplotlib.pyplot as plt\n",
    "import seaborn as sns"
   ]
  },
  {
   "cell_type": "code",
   "execution_count": null,
   "metadata": {},
   "outputs": [],
   "source": [
    "sales = pd.read_csv('./data/caspecoTrainingData.csv')\n",
    "sales.head(20)"
   ]
  },
  {
   "cell_type": "code",
   "execution_count": null,
   "metadata": {},
   "outputs": [],
   "source": [
    "dates = pd.date_range('2020-01-01', '2023-01-04', freq='D')\n",
    "sales['Sales'] = sales.groupby('Company')['Sales'].transform(\n",
    "    lambda x: (x - x.min()) / (x.max() - x.min()))\n",
    "sales['Date'] = pd.to_datetime(sales['Date'])\n",
    "# if there is a company which has no row for a date, we add a row with 0 sales\n",
    "for company in sales['Company'].unique():\n",
    "    for date in dates:\n",
    "        if not date in sales[sales['Company'] == company]['Date'].values:\n",
    "            sales = pd.concat([sales, pd.DataFrame({'Company': [company], 'Date': [date], 'Sales': [0]})])\n",
    "\n",
    "sales['Date'] = pd.to_datetime(sales['Date'])\n",
    "sales = sales.sort_values(by=['Date', 'Company'])\n",
    "sales.head(20)"
   ]
  },
  {
   "cell_type": "code",
   "execution_count": null,
   "metadata": {},
   "outputs": [],
   "source": [
    "#plot the sales of each company in same plot\n",
    "# make fig size 30x10\n",
    "# normalize sales for each company\n",
    "daterange = pd.date_range('2020-12-01', '2021-01-10', freq='D')\n",
    "\n",
    "plt.figure(figsize=(30,10))\n",
    "for company in [0,1,2]:\n",
    "    plt.plot(sales[sales['Company'] == company]['Date'], sales[sales['Company'] == company]['Sales'])\n",
    "plt.legend(sales['Company'].unique())\n",
    "plt.xlim(daterange[0], daterange[-1])\n",
    "plt.ylim(0, 0.5)\n",
    "# plot each date on xtick\n",
    "plt.xticks(daterange, rotation=45)\n",
    "plt.grid()\n",
    "plt.show()"
   ]
  },
  {
   "cell_type": "code",
   "execution_count": null,
   "metadata": {},
   "outputs": [],
   "source": [
    "sales['Day'] = sales['Date'].dt.day\n",
    "sales['Month'] = sales['Date'].dt.month\n",
    "sales['Year'] = sales['Date'].dt.year\n",
    "sales['Weekday'] = sales['Date'].dt.weekday\n",
    "\n",
    "sales.tail(30)"
   ]
  },
  {
   "cell_type": "code",
   "execution_count": null,
   "metadata": {},
   "outputs": [],
   "source": [
    "holidays = pd.read_csv('./data/Swedish holidays.csv')\n",
    "# turn every 24th of december into a holiday\n",
    "holidays['Date'] = pd.to_datetime(holidays['Date'])\n",
    "holidays = holidays.append({'Date': pd.to_datetime('2020-12-24')}, ignore_index=True)\n",
    "holidays = holidays.append({'Date': pd.to_datetime('2021-12-24')}, ignore_index=True)\n",
    "holidays = holidays.append({'Date': pd.to_datetime('2022-12-24')}, ignore_index=True)\n",
    "# turn every 30th of april into a holiday\n",
    "holidays = holidays.append({'Date': pd.to_datetime('2020-04-30')}, ignore_index=True)\n",
    "holidays = holidays.append({'Date': pd.to_datetime('2021-04-30')}, ignore_index=True)\n",
    "holidays = holidays.append({'Date': pd.to_datetime('2022-04-30')}, ignore_index=True)\n",
    "holidays.sort_values(by='Date', inplace=True)\n",
    "sales['Holiday'] = sales['Date'].isin(holidays['Date']).astype(int)\n",
    "sales.head()\n",
    "\n",
    "# plot the sales of each company in same plot with holidays as vertical lines\n",
    "# make fig size 120x10\n",
    "plt.figure(figsize=(400,10))\n",
    "for company in [0,1,2]:\n",
    "  plt.plot(sales[sales['Company'] == company]['Date'], sales[sales['Company'] == company]['Sales'])\n",
    "plt.legend(sales['Company'].unique())\n",
    "plt.ylim(0, 1)\n",
    "# plot each date on xtick\n",
    "# x ticks as date and weekday\n",
    "plt.xticks(sales['Date'][::3], labels=list(zip(sales['Month'], sales['Day'], sales['Weekday'].map({0: 'Mon', 1: 'Tue', 2: 'Wed', 3: 'Thu', 4: 'Fri', 5: 'Sat', 6: 'Sun'})))[::3], rotation=80)\n",
    "plt.grid()\n",
    "# plot holidays as vertical lines\n",
    "for holiday in holidays['Date']:\n",
    "  plt.axvline(holiday, color='r')\n",
    "plt.show()"
   ]
  },
  {
   "cell_type": "code",
   "execution_count": null,
   "metadata": {},
   "outputs": [],
   "source": [
    "sales['Closed'] = (sales['Sales'] == 0).astype(int)\n",
    "sales.head()"
   ]
  },
  {
   "cell_type": "code",
   "execution_count": null,
   "metadata": {},
   "outputs": [],
   "source": [
    "X = sales.drop(['Sales', 'Date'], axis=1)\n",
    "y = sales['Sales']\n",
    "\n",
    "days_to_drop = 3 * 21\n",
    "end_date = 3 * 21\n",
    "dates = sales['Date'][-(days_to_drop + end_date)::3]\n",
    "\n",
    "train_x, train_y = X[:-(days_to_drop + end_date)], y[:-(days_to_drop + end_date)]\n",
    "test_x, test_y = X[-(days_to_drop + end_date):], y[-(days_to_drop + end_date):]\n",
    "\n",
    "from sklearn.linear_model import LinearRegression\n",
    "from sklearn.ensemble import RandomForestRegressor\n",
    "\n",
    "models = [\n",
    "    RandomForestRegressor()\n",
    "]\n",
    "\n",
    "for model in models:\n",
    "  model.fit(train_x, train_y)\n",
    "\n",
    "  pred_y = model.predict(test_x)\n",
    "\n",
    "  feature_importance = pd.Series(model.feature_importances_,\n",
    "            index=train_x.columns).sort_values(ascending=False)\n",
    "  print(feature_importance)\n",
    "\n",
    "  #print score\n",
    "  colors = {0: 'red', 1: 'green', 2: 'blue'}\n",
    "  \n",
    "  for company in [0,1,2]:\n",
    "    plt.figure(figsize=(30, 10))\n",
    "    company_sales = test_y[test_x['Company'] == company]\n",
    "    plt.plot(dates, company_sales, label=f'{company} actual', color=colors[company])\n",
    "    plt.plot(dates, pred_y[test_x['Company'] == company],\n",
    "            label=f'{company} predicted', linestyle='--', color=colors[company])\n",
    "    plt.xticks(dates, rotation=45)\n",
    "    plt.grid()\n",
    "    plt.legend()\n"
   ]
  }
 ],
 "metadata": {
  "kernelspec": {
   "display_name": "Python 3",
   "language": "python",
   "name": "python3"
  },
  "language_info": {
   "codemirror_mode": {
    "name": "ipython",
    "version": 3
   },
   "file_extension": ".py",
   "mimetype": "text/x-python",
   "name": "python",
   "nbconvert_exporter": "python",
   "pygments_lexer": "ipython3",
   "version": "3.10.6"
  },
  "orig_nbformat": 4,
  "vscode": {
   "interpreter": {
    "hash": "916dbcbb3f70747c44a77c7bcd40155683ae19c65e1c03b4aa3499c5328201f1"
   }
  }
 },
 "nbformat": 4,
 "nbformat_minor": 2
}
