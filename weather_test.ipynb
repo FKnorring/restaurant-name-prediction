{
 "cells": [
  {
   "cell_type": "code",
   "execution_count": 2,
   "metadata": {},
   "outputs": [],
   "source": [
    "import pandas as pd\n",
    "import numpy as np\n",
    "import matplotlib.pyplot as plt\n",
    "import seaborn as sns\n",
    "import re"
   ]
  },
  {
   "cell_type": "code",
   "execution_count": 3,
   "metadata": {},
   "outputs": [
    {
     "data": {
      "text/plain": [
       "2    462\n",
       "1    256\n",
       "3    252\n",
       "0    177\n",
       "Name: conditions, dtype: int64"
      ]
     },
     "execution_count": 3,
     "metadata": {},
     "output_type": "execute_result"
    }
   ],
   "source": [
    "weather = pd.read_csv('./data/uppsala_weather.csv')\n",
    "\n",
    "# drop name, tempmax, tempmin, feelslikemax, feelslikemin, feelslike, dew, humidity, solarenergy, uvindex, severerisk, sunrise\n",
    "\n",
    "\n",
    "weather = weather.drop(columns=[\n",
    "  'name', \n",
    "  'tempmax', \n",
    "  'tempmin', \n",
    "  'feelslikemax', \n",
    "  'feelslikemin', \n",
    "  'feelslike', \n",
    "  'dew', \n",
    "  'humidity', \n",
    "  'solarenergy', \n",
    "  'uvindex', \n",
    "  'severerisk', \n",
    "  'sunrise',\n",
    "  'precip',\n",
    "  'precipprob',\n",
    "  'precipcover',\n",
    "  'snow',\n",
    "  'snowdepth',\n",
    "  'windgust',\n",
    "  'winddir',\n",
    "  'sealevelpressure',\n",
    "  'visibility',\n",
    "  'cloudcover',\n",
    "  'solarradiation',\n",
    "  'moonphase',\n",
    "  'sunset',\n",
    "  'preciptype',\n",
    "  'description',\n",
    "  'icon',\n",
    "  'stations'\n",
    "])\n",
    "\n",
    "# regex match Rain, Snow\n",
    "snow = re.compile('Snow')\n",
    "rain = re.compile('Rain')\n",
    "cloudy = re.compile('cloudy|Overcast')\n",
    "clear = re.compile('Clear|Sunny')\n",
    "\n",
    "weather['conditions'] = weather['conditions'].apply(lambda x: \"clear\" if re.search(clear, x) else x)\n",
    "weather['conditions'] = weather['conditions'].apply(lambda x: \"snow\" if re.search(snow, x) else x)\n",
    "weather['conditions'] = weather['conditions'].apply(lambda x: \"rain\" if re.search(rain, x) else x)\n",
    "weather['conditions'] = weather['conditions'].apply(lambda x: \"cloudy\" if re.search(cloudy, x) else x)\n",
    "\n",
    "\n",
    "\n",
    "\n",
    "weather['conditions'].value_counts()"
   ]
  }
 ],
 "metadata": {
  "kernelspec": {
   "display_name": "Python 3",
   "language": "python",
   "name": "python3"
  },
  "language_info": {
   "codemirror_mode": {
    "name": "ipython",
    "version": 3
   },
   "file_extension": ".py",
   "mimetype": "text/x-python",
   "name": "python",
   "nbconvert_exporter": "python",
   "pygments_lexer": "ipython3",
   "version": "3.8.10"
  },
  "orig_nbformat": 4,
  "vscode": {
   "interpreter": {
    "hash": "916dbcbb3f70747c44a77c7bcd40155683ae19c65e1c03b4aa3499c5328201f1"
   }
  }
 },
 "nbformat": 4,
 "nbformat_minor": 2
}
